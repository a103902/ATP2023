{
 "cells": [
  {
   "cell_type": "markdown",
   "id": "51bf2d88",
   "metadata": {},
   "source": [
    "## TPC3: Adivinha o número!?\n",
    "\n",
    "Desenvolve em Python o código necessário para o jogo do Adivinha o número: \n",
    "* O jogo deverá ter dois modos: o computador tenta acertar no número que o jogador pensou ou, o jogador tenta acertar no número que o computador pensou; \n",
    "* No fim, o programa deverá indicar quantas tentativas foram realizadas para chegar ao resultado;\n",
    "* O Jogo: \n",
    "    - o utilizador pensa num número entre 0 e 100;\n",
    "    - o computador tenta adivinhar indicando um número do intervalo;\n",
    "    - o utilizador indica se o número em que pensou é **maior**, **menor**, ou se o computador **acertou**;\n",
    "    - ao terminar, o programa imprime o número de tentativas que o computador teve de fazer até chegar ao número.\n",
    "\n",
    "Que conclusão podes tirar sobre o número de tentativas necessárias para um número entre 0 e 100? E se fosse entre 0 e 1000?"
   ]
  },
  {
   "cell_type": "code",
   "execution_count": 1,
   "id": "c3e28e0b",
   "metadata": {},
   "outputs": [],
   "source": [
    "# O utilizador pensa num número entre 0 e 100\n",
    "\n",
    "import random\n",
    "\n",
    "mínimo = 0\n",
    "máximo = 100\n",
    "tentativas = 0\n",
    "\n",
    "def adivinha_o_número():\n",
    "    mínimo = 0\n",
    "    máximo = 100\n",
    "    tentativas = 0\n",
    "n = int(input(\"Pensa num número entre 0 e 100\"))\n",
    "\n",
    "# O computador tenta adivinhar indicando um número do intervalo\n",
    "\n",
    "while True:\n",
    "        tentativa = random.randint(mínimo, máximo)\n",
    "        print(f\"O seu número é o {tentativa}!\")\n",
    "        tentativas += 1\n",
    "\n",
    "# O utilizador indica se o número em que pensou é maior, menor, ou se o computador acertou\n",
    "\n",
    "resposta = input(\"O número em que pensou é maior, menor, ou igual a este?\")\n",
    "\n",
    "if resposta == maior:\n",
    "    mínimo = tentativa + 1\n",
    "    tentativas = tentativas + 1\n",
    "\n",
    "elif resposta == menor:\n",
    "    máximo = tentativa - 1\n",
    "    tentativas = tentativas + 1\n",
    "\n",
    "elif resposta == acertou:\n",
    "    print(f\"O jogo foi finalizado com **{tentativas}** tentativas!\")\n",
    "    break\n",
    "\n",
    "# Ao acabar o jogo, imprimir o número de tentativas que o computador teve de fazer até chegar ao número\n",
    "\n",
    "adivinha_o_número()\n"
   ]
  }
 ],
 "metadata": {
  "kernelspec": {
   "display_name": "Python 3.9.7 64-bit",
   "language": "python",
   "name": "python3"
  },
  "language_info": {
   "codemirror_mode": {
    "name": "ipython",
    "version": 3
   },
   "file_extension": ".py",
   "mimetype": "text/x-python",
   "name": "python",
   "nbconvert_exporter": "python",
   "pygments_lexer": "ipython3",
   "version": "3.9.13"
  },
  "vscode": {
   "interpreter": {
    "hash": "916dbcbb3f70747c44a77c7bcd40155683ae19c65e1c03b4aa3499c5328201f1"
   }
  }
 },
 "nbformat": 4,
 "nbformat_minor": 5
}
