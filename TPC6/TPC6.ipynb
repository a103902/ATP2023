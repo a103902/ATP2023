{
 "cells": [
  {
   "cell_type": "markdown",
   "id": "4193a91b",
   "metadata": {},
   "source": [
    "### TPC6: Análise de dados: doença cardíaca\n",
    "\n",
    "Descarregue o ficheiro de dados: [diabetes_prediction_dataset.csv](./datasets/diabetes_prediction_dataset.csv.zip).\n",
    "\n",
    "Encontra mais informação sobre este conjunto de dados [aqui](https://www.kaggle.com/datasets/iammustafatz/diabetes-prediction-dataset).\n",
    "\n",
    "Crie um programa em Python, conjunto de funções, que responda às seguintes questões:\n",
    "* Crie uma função que lê a informação do ficheiro para um modelo, previamente pensado em memória;\n",
    "* Crie uma função que calcula a distribuição da doença por sexo (tenha atenção que indivíduos doentes e não doentes no dataset);\n",
    "* Crie uma função que calcula a distribuição da doença por escalões etários. Considere os seguintes escalões: [0-10], [11-24], [25-29], [30-34], [35-39], [40-44], ...\n",
    "* Crie uma função que calcula a distribuição da doença por níveis de glucose. Considere um nível igual a um intervalo de 10 unidades, comece no limite inferior e crie os níveis necessários até abranger o limite superior;\n",
    "* Crie uma função que imprime na forma de uma tabela uma distribuição;\n",
    "* Especifique um programa que ao executar apresenta as tabelas correspondentes às distribuições pedidas."
   ]
  },
  {
   "cell_type": "code",
   "execution_count": null,
   "id": "1765ff9e",
   "metadata": {},
   "outputs": [],
   "source": [
    "import cvs\n",
    "\n",
    "def dsexo(data):\n",
    "    dsexo = {\"M\": 0, \"F\": 0}\n",
    "    for n in data:\n",
    "        if n[\"Sex\"] == \"M\":\n",
    "            dsexo[\"M\"] += 1\n",
    "        elif n[\"Sex\"] == \"F\":\n",
    "            dsexo[\"F\"] += 1\n",
    "    return dsexo\n",
    "\n",
    "def didade(data):\n",
    "    faixasetaria = [0, 10, 25, 30, 35, 40, 45, 50, 55, 60, 65, 70, 75, 1000]\n",
    "    for n in data:\n",
    "        age = int(record[\"Idade\"])\n",
    "        for i in range(len(faixasetaria) - 1):\n",
    "            if faixasetaria[i] <= age < faixasetaria[i + 1]:\n",
    "                didade[faixaetaria[i]] += 1\n",
    "    return didade\n",
    "\n",
    "def dglucose(data):\n",
    "    intervalo = 10\n",
    "    max = max(int(record[\"Glucose\"]) for record in data)\n",
    "    min = min(int(record[\"Glucose\"]) for record in data)\n",
    "    \n",
    "    distribuicaoglucose = {}\n",
    "    \n",
    "    for i in range(min, max + 1, intervalo):\n",
    "        s = i + intervalo - 1\n",
    "    \n",
    "    return dglucose\n",
    "\n",
    "def imprimir(distribuicao, titulo):\n",
    "    print(f\"{titulo}\")\n",
    "    for chave, valor in distribuicao.items():\n",
    "        print(f\"{chave}: {valor}\")\n",
    "\n",
    "file.close(cvs)"
   ]
  }
 ],
 "metadata": {
  "kernelspec": {
   "display_name": "Python 3.9.1 64-bit",
   "language": "python",
   "name": "python3"
  },
  "language_info": {
   "codemirror_mode": {
    "name": "ipython",
    "version": 3
   },
   "file_extension": ".py",
   "mimetype": "text/x-python",
   "name": "python",
   "nbconvert_exporter": "python",
   "pygments_lexer": "ipython3",
   "version": "3.9.4"
  },
  "vscode": {
   "interpreter": {
    "hash": "aee8b7b246df8f9039afb4144a1f6fd8d2ca17a180786b69acc140d282b71a49"
   }
  }
 },
 "nbformat": 4,
 "nbformat_minor": 5
}
